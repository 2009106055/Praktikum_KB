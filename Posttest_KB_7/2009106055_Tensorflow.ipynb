{
 "cells": [
  {
   "cell_type": "markdown",
   "metadata": {},
   "source": [
    "<h1>POSTTEST 7 KECERDASAN BUATAN</h1>\n",
    "<a href=\"https://github.com/2009106055/Praktikum_KB\">Link Github POSTTEST KB</a>"
   ]
  },
  {
   "cell_type": "code",
   "execution_count": 5,
   "metadata": {},
   "outputs": [],
   "source": [
    "import numpy as np\n",
    "import tensorflow as tf"
   ]
  },
  {
   "cell_type": "markdown",
   "metadata": {},
   "source": [
    "<h5>Membuat Tensor Random dan Prime Tensor dengan shape [5,5]</h5>"
   ]
  },
  {
   "cell_type": "code",
   "execution_count": 9,
   "metadata": {},
   "outputs": [
    {
     "data": {
      "text/plain": [
       "<tf.Tensor: shape=(5, 5), dtype=float32, numpy=\n",
       "array([[-0.32386488,  0.99133694,  0.14024267,  1.2573972 ,  0.09992335],\n",
       "       [ 0.18983224, -0.28711194, -1.7413595 ,  1.8718754 , -2.0104504 ],\n",
       "       [-1.4673029 , -1.2721989 , -0.7803738 ,  0.94073033, -0.06164822],\n",
       "       [-2.0842526 ,  0.61423135, -1.451092  , -0.88693523, -0.96740866],\n",
       "       [ 0.94831836, -0.6974499 ,  0.5391437 , -0.52970064, -2.0105364 ]],\n",
       "      dtype=float32)>"
      ]
     },
     "execution_count": 9,
     "metadata": {},
     "output_type": "execute_result"
    }
   ],
   "source": [
    "random_tensor = tf.random.normal([5,5], mean=0, stddev=1, seed=1)\n",
    "random_tensor"
   ]
  },
  {
   "cell_type": "code",
   "execution_count": 10,
   "metadata": {},
   "outputs": [
    {
     "data": {
      "text/plain": [
       "<tf.Tensor: shape=(5, 5), dtype=float32, numpy=\n",
       "array([[  2.,   3.,   5.,   7.,  11.],\n",
       "       [ 13.,  17.,  19.,  23.,  29.],\n",
       "       [ 31.,  37.,  41.,  43.,  47.],\n",
       "       [ 53.,  59.,  61.,  71.,  73.],\n",
       "       [ 79.,  83.,  89.,  97., 101.]], dtype=float32)>"
      ]
     },
     "execution_count": 10,
     "metadata": {},
     "output_type": "execute_result"
    }
   ],
   "source": [
    "prime_tensor = tf.constant([2, 3, 5, 7, 11, 13, 17, 19, 23, 29, 31, 37, 41, 43, 47, 53, 59, 61, 71, 73, 79, 83, 89, 97, 101], shape=[5, 5], dtype=tf.float32)\n",
    "prime_tensor"
   ]
  },
  {
   "cell_type": "markdown",
   "metadata": {},
   "source": [
    "<h5>Menampilkan hasil dari perhitungan aritmetika 2 variable tersebut (Gunakan minimal 5 operator)</h5>"
   ]
  },
  {
   "cell_type": "markdown",
   "metadata": {},
   "source": [
    "<h5>Perhitungan aritmatika add (pertambahan)<h5>"
   ]
  },
  {
   "cell_type": "code",
   "execution_count": 11,
   "metadata": {},
   "outputs": [
    {
     "data": {
      "text/plain": [
       "<tf.Tensor: shape=(5, 5), dtype=float32, numpy=\n",
       "array([[ 1.6761351,  3.9913368,  5.1402426,  8.257397 , 11.099923 ],\n",
       "       [13.189833 , 16.712889 , 17.25864  , 24.871876 , 26.98955  ],\n",
       "       [29.532698 , 35.727802 , 40.219627 , 43.94073  , 46.93835  ],\n",
       "       [50.91575  , 59.61423  , 59.54891  , 70.11307  , 72.03259  ],\n",
       "       [79.94832  , 82.30255  , 89.53915  , 96.4703   , 98.98946  ]],\n",
       "      dtype=float32)>"
      ]
     },
     "execution_count": 11,
     "metadata": {},
     "output_type": "execute_result"
    }
   ],
   "source": [
    "tf.add(random_tensor,prime_tensor)"
   ]
  },
  {
   "cell_type": "markdown",
   "metadata": {},
   "source": [
    "<h5>Perhitungan aritmatika substract (pengurangan)<h5>"
   ]
  },
  {
   "cell_type": "code",
   "execution_count": 12,
   "metadata": {},
   "outputs": [
    {
     "data": {
      "text/plain": [
       "<tf.Tensor: shape=(5, 5), dtype=float32, numpy=\n",
       "array([[  -2.323865 ,   -2.0086632,   -4.8597574,   -5.742603 ,\n",
       "         -10.900077 ],\n",
       "       [ -12.810167 ,  -17.287111 ,  -20.74136  ,  -21.128124 ,\n",
       "         -31.01045  ],\n",
       "       [ -32.467304 ,  -38.272198 ,  -41.780373 ,  -42.05927  ,\n",
       "         -47.06165  ],\n",
       "       [ -55.08425  ,  -58.38577  ,  -62.45109  ,  -71.88693  ,\n",
       "         -73.96741  ],\n",
       "       [ -78.05168  ,  -83.69745  ,  -88.46085  ,  -97.5297   ,\n",
       "        -103.01054  ]], dtype=float32)>"
      ]
     },
     "execution_count": 12,
     "metadata": {},
     "output_type": "execute_result"
    }
   ],
   "source": [
    "tf.subtract(random_tensor,prime_tensor)"
   ]
  },
  {
   "cell_type": "markdown",
   "metadata": {},
   "source": [
    "<h5>Perhitungan aritmatika multiply (perkalian)<h5>"
   ]
  },
  {
   "cell_type": "code",
   "execution_count": 13,
   "metadata": {},
   "outputs": [
    {
     "data": {
      "text/plain": [
       "<tf.Tensor: shape=(5, 5), dtype=float32, numpy=\n",
       "array([[  -0.64772975,    2.974011  ,    0.70121336,    8.801781  ,\n",
       "           1.0991569 ],\n",
       "       [   2.4678192 ,   -4.880903  ,  -33.08583   ,   43.053135  ,\n",
       "         -58.303062  ],\n",
       "       [ -45.48639   ,  -47.07136   ,  -31.995327  ,   40.451405  ,\n",
       "          -2.8974664 ],\n",
       "       [-110.465385  ,   36.23965   ,  -88.51661   ,  -62.9724    ,\n",
       "         -70.620834  ],\n",
       "       [  74.91715   ,  -57.888344  ,   47.983788  ,  -51.380962  ,\n",
       "        -203.06418   ]], dtype=float32)>"
      ]
     },
     "execution_count": 13,
     "metadata": {},
     "output_type": "execute_result"
    }
   ],
   "source": [
    "tf.multiply(random_tensor,prime_tensor)"
   ]
  },
  {
   "cell_type": "markdown",
   "metadata": {},
   "source": [
    "<h5>Perhitungan aritmatika divide (pembagian)<h5>"
   ]
  },
  {
   "cell_type": "code",
   "execution_count": 14,
   "metadata": {},
   "outputs": [
    {
     "data": {
      "text/plain": [
       "<tf.Tensor: shape=(5, 5), dtype=float32, numpy=\n",
       "array([[-0.16193244,  0.33044565,  0.02804853,  0.17962816,  0.00908394],\n",
       "       [ 0.01460248, -0.01688894, -0.0916505 ,  0.08138589, -0.06932587],\n",
       "       [-0.04733235, -0.03438376, -0.01903351,  0.02187745, -0.00131166],\n",
       "       [-0.03932552,  0.0104107 , -0.02378839, -0.01249205, -0.01325217],\n",
       "       [ 0.01200403, -0.00840301,  0.00605779, -0.00546083, -0.0199063 ]],\n",
       "      dtype=float32)>"
      ]
     },
     "execution_count": 14,
     "metadata": {},
     "output_type": "execute_result"
    }
   ],
   "source": [
    "tf.divide(random_tensor,prime_tensor)"
   ]
  },
  {
   "cell_type": "markdown",
   "metadata": {},
   "source": [
    "<h5>Perhitungan aritmatika pow (pangkat)<h5>"
   ]
  },
  {
   "cell_type": "code",
   "execution_count": 15,
   "metadata": {},
   "outputs": [
    {
     "data": {
      "text/plain": [
       "<tf.Tensor: shape=(5, 5), dtype=float32, numpy=\n",
       "array([[ 1.0488846e-01,  9.7423530e-01,  5.4250133e-05,  4.9694390e+00,\n",
       "         9.9160073e-12],\n",
       "       [ 4.1572837e-10, -6.1216887e-10, -3.7746809e+04,  1.8296565e+06,\n",
       "        -6.2446387e+08],\n",
       "       [-1.4524903e+05, -7.3881514e+03, -3.8406979e-05,  7.2277203e-02,\n",
       "        -0.0000000e+00],\n",
       "       [-8.0235882e+16,  3.2477805e-13, -7.3011604e+09, -1.9967581e-04,\n",
       "        -8.9028239e-02],\n",
       "       [ 1.5113972e-02, -1.0270262e-13,  1.3234340e-24, -1.7019940e-27,\n",
       "        -4.3102917e+30]], dtype=float32)>"
      ]
     },
     "execution_count": 15,
     "metadata": {},
     "output_type": "execute_result"
    }
   ],
   "source": [
    "tf.pow(random_tensor,prime_tensor)"
   ]
  },
  {
   "cell_type": "markdown",
   "metadata": {},
   "source": [
    "<h5>Menampilkan nilai maksimal dan minimal dari variable random_tensor</h5>"
   ]
  },
  {
   "cell_type": "code",
   "execution_count": 17,
   "metadata": {},
   "outputs": [
    {
     "data": {
      "text/plain": [
       "<tf.Tensor: shape=(5,), dtype=int64, numpy=array([4, 0, 4, 1, 0], dtype=int64)>"
      ]
     },
     "execution_count": 17,
     "metadata": {},
     "output_type": "execute_result"
    }
   ],
   "source": [
    "tf.argmax(random_tensor, axis=0)"
   ]
  },
  {
   "cell_type": "code",
   "execution_count": 24,
   "metadata": {},
   "outputs": [
    {
     "data": {
      "text/plain": [
       "<tf.Tensor: shape=(5,), dtype=int64, numpy=array([3, 2, 1, 3, 4], dtype=int64)>"
      ]
     },
     "execution_count": 24,
     "metadata": {},
     "output_type": "execute_result"
    }
   ],
   "source": [
    "tf.argmin(random_tensor, axis=0)"
   ]
  },
  {
   "cell_type": "markdown",
   "metadata": {},
   "source": [
    "<h5>Tampilkan hasil dari penggabungan variable random_tensor dengan prime_tensor (concatenation)</h5>"
   ]
  },
  {
   "cell_type": "code",
   "execution_count": 27,
   "metadata": {},
   "outputs": [
    {
     "name": "stdout",
     "output_type": "stream",
     "text": [
      "size original pada data random dan prime tensor: (5, 5) (5, 5)\n",
      "size concatenated data: (10, 5)\n"
     ]
    }
   ],
   "source": [
    "print(\"size original pada data random dan prime tensor:\",random_tensor.shape,prime_tensor.shape)\n",
    "concated_tensor = tf.concat([random_tensor,prime_tensor],axis=0)\n",
    "print(\"size concatenated data:\",concated_tensor.shape)"
   ]
  },
  {
   "cell_type": "markdown",
   "metadata": {},
   "source": [
    "<h5>Tampilkan hasil sorting dari kedua variable di atas. (descending)</h5>"
   ]
  },
  {
   "cell_type": "code",
   "execution_count": 30,
   "metadata": {},
   "outputs": [
    {
     "name": "stdout",
     "output_type": "stream",
     "text": [
      "input prime tensor: [[  2.   3.   5.   7.  11.]\n",
      " [ 13.  17.  19.  23.  29.]\n",
      " [ 31.  37.  41.  43.  47.]\n",
      " [ 53.  59.  61.  71.  73.]\n",
      " [ 79.  83.  89.  97. 101.]]\n",
      "input random tensor: [[-0.32386488  0.99133694  0.14024267  1.2573972   0.09992335]\n",
      " [ 0.18983224 -0.28711194 -1.7413595   1.8718754  -2.0104504 ]\n",
      " [-1.4673029  -1.2721989  -0.7803738   0.94073033 -0.06164822]\n",
      " [-2.0842526   0.61423135 -1.451092   -0.88693523 -0.96740866]\n",
      " [ 0.94831836 -0.6974499   0.5391437  -0.52970064 -2.0105364 ]]\n",
      "hasil random tensor sorted dengan descending order: [[ 1.2573972   0.99133694  0.14024267  0.09992335 -0.32386488]\n",
      " [ 1.8718754   0.18983224 -0.28711194 -1.7413595  -2.0104504 ]\n",
      " [ 0.94073033 -0.06164822 -0.7803738  -1.2721989  -1.4673029 ]\n",
      " [ 0.61423135 -0.88693523 -0.96740866 -1.451092   -2.0842526 ]\n",
      " [ 0.94831836  0.5391437  -0.52970064 -0.6974499  -2.0105364 ]]\n",
      "hasil prime tensor sorted dengan descending order: [[ 11.   7.   5.   3.   2.]\n",
      " [ 29.  23.  19.  17.  13.]\n",
      " [ 47.  43.  41.  37.  31.]\n",
      " [ 73.  71.  61.  59.  53.]\n",
      " [101.  97.  89.  83.  79.]]\n"
     ]
    }
   ],
   "source": [
    "print(\"input prime tensor:\",prime_tensor.numpy())\n",
    "print(\"input random tensor:\",random_tensor.numpy())\n",
    "sorted_random = tf.sort(random_tensor, direction = \"DESCENDING\")\n",
    "print(\"hasil random tensor sorted dengan descending order:\",sorted_random.numpy())\n",
    "sorted_prime = tf.sort(prime_tensor, direction = \"DESCENDING\")\n",
    "print(\"hasil prime tensor sorted dengan descending order:\",sorted_prime.numpy())"
   ]
  }
 ],
 "metadata": {
  "kernelspec": {
   "display_name": "Python 3.10.7 64-bit",
   "language": "python",
   "name": "python3"
  },
  "language_info": {
   "codemirror_mode": {
    "name": "ipython",
    "version": 3
   },
   "file_extension": ".py",
   "mimetype": "text/x-python",
   "name": "python",
   "nbconvert_exporter": "python",
   "pygments_lexer": "ipython3",
   "version": "3.10.7"
  },
  "orig_nbformat": 4,
  "vscode": {
   "interpreter": {
    "hash": "b3609bf0e7e6b9d51fac35ac71f79ce13a464e889557099e374c419fb7556006"
   }
  }
 },
 "nbformat": 4,
 "nbformat_minor": 2
}
