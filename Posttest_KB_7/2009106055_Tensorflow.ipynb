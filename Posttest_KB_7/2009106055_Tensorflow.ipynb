{
 "cells": [
  {
   "cell_type": "markdown",
   "metadata": {},
   "source": [
    "<h1>POSTTEST 7 KECERDASAN BUATAN</h1>\n",
    "<a href=\"https://github.com/2009106055/Praktikum_KB\">Link Github POSTTEST KB</a>"
   ]
  },
  {
   "cell_type": "code",
   "execution_count": 39,
   "metadata": {},
   "outputs": [],
   "source": [
    "import numpy as np\n",
    "import tensorflow as tf"
   ]
  },
  {
   "cell_type": "markdown",
   "metadata": {},
   "source": [
    "<h5>Membuat Tensor Random dan Prime Tensor dengan shape [5,5]</h5>"
   ]
  },
  {
   "cell_type": "code",
   "execution_count": 40,
   "metadata": {},
   "outputs": [
    {
     "name": "stdout",
     "output_type": "stream",
     "text": [
      "Tensor Random : [[ 0.00534202 -1.0460438  -1.6427648  -0.3495337   0.951451  ]\n",
      " [ 0.8105827  -0.761741    1.0136645  -1.8470215   0.20171778]\n",
      " [ 1.2173525  -1.7574261   1.765832    1.14004     0.8317814 ]\n",
      " [-1.9974602   0.25176758  1.0689832   0.30159846  0.2641973 ]\n",
      " [ 0.02316601  0.7222838   0.3744623  -0.09558094  1.4185706 ]]\n"
     ]
    }
   ],
   "source": [
    "random_tensor = tf.random.normal([5,5], mean=0, stddev=1, seed=1)\n",
    "print(\"Tensor Random :\",random_tensor.numpy())"
   ]
  },
  {
   "cell_type": "code",
   "execution_count": 41,
   "metadata": {},
   "outputs": [
    {
     "name": "stdout",
     "output_type": "stream",
     "text": [
      "Tensor Prime [[  2.   3.   5.   7.  11.]\n",
      " [ 13.  17.  19.  23.  29.]\n",
      " [ 31.  37.  41.  43.  47.]\n",
      " [ 53.  59.  61.  71.  73.]\n",
      " [ 79.  83.  89.  97. 101.]]\n"
     ]
    }
   ],
   "source": [
    "prime_tensor = tf.constant([2, 3, 5, 7, 11, 13, 17, 19, 23, 29, 31, 37, 41, 43, 47, 53, 59, 61, 71, 73, 79, 83, 89, 97, 101], shape=[5, 5], dtype=tf.float32)\n",
    "print(\"Tensor Prime\",prime_tensor.numpy())"
   ]
  },
  {
   "cell_type": "markdown",
   "metadata": {},
   "source": [
    "<h5>Menampilkan hasil dari perhitungan aritmetika 2 variable tersebut (Gunakan minimal 5 operator)</h5>"
   ]
  },
  {
   "cell_type": "markdown",
   "metadata": {},
   "source": [
    "<h5>Perhitungan aritmatika add (pertambahan)<h5>"
   ]
  },
  {
   "cell_type": "code",
   "execution_count": 42,
   "metadata": {},
   "outputs": [
    {
     "name": "stdout",
     "output_type": "stream",
     "text": [
      "Hasil Dari Pertambahan Tensor : [[  2.005342    1.9539562   3.3572352   6.6504664  11.951451 ]\n",
      " [ 13.810583   16.238258   20.013664   21.152979   29.201717 ]\n",
      " [ 32.217354   35.242573   42.76583    44.14004    47.83178  ]\n",
      " [ 51.00254    59.251766   62.068985   71.3016     73.2642   ]\n",
      " [ 79.02316    83.72228    89.374466   96.90442   102.41857  ]]\n"
     ]
    }
   ],
   "source": [
    "print(\"Hasil Dari Pertambahan Tensor :\",tf.add(random_tensor,prime_tensor).numpy())"
   ]
  },
  {
   "cell_type": "markdown",
   "metadata": {},
   "source": [
    "<h5>Perhitungan aritmatika substract (pengurangan)<h5>"
   ]
  },
  {
   "cell_type": "code",
   "execution_count": 43,
   "metadata": {},
   "outputs": [
    {
     "name": "stdout",
     "output_type": "stream",
     "text": [
      "Hasil Dari Pengurangan Tensor : [[ -1.994658   -4.046044   -6.642765   -7.3495336 -10.048549 ]\n",
      " [-12.189417  -17.761742  -17.986336  -24.847021  -28.798283 ]\n",
      " [-29.782648  -38.757427  -39.23417   -41.85996   -46.16822  ]\n",
      " [-54.99746   -58.748234  -59.931015  -70.6984    -72.7358   ]\n",
      " [-78.97684   -82.27772   -88.625534  -97.09558   -99.58143  ]]\n"
     ]
    }
   ],
   "source": [
    "print(\"Hasil Dari Pengurangan Tensor :\",tf.subtract(random_tensor,prime_tensor).numpy())"
   ]
  },
  {
   "cell_type": "markdown",
   "metadata": {},
   "source": [
    "<h5>Perhitungan aritmatika multiply (perkalian)<h5>"
   ]
  },
  {
   "cell_type": "code",
   "execution_count": 44,
   "metadata": {},
   "outputs": [
    {
     "name": "stdout",
     "output_type": "stream",
     "text": [
      "Hasil Dari Perkalian Tensor : [[ 1.06840469e-02 -3.13813114e+00 -8.21382427e+00 -2.44673586e+00\n",
      "   1.04659615e+01]\n",
      " [ 1.05375748e+01 -1.29495964e+01  1.92596245e+01 -4.24814949e+01\n",
      "   5.84981537e+00]\n",
      " [ 3.77379265e+01 -6.50247650e+01  7.23991089e+01  4.90217209e+01\n",
      "   3.90937271e+01]\n",
      " [-1.05865395e+02  1.48542871e+01  6.52079773e+01  2.14134903e+01\n",
      "   1.92864017e+01]\n",
      " [ 1.83011508e+00  5.99495544e+01  3.33271446e+01 -9.27135181e+00\n",
      "   1.43275635e+02]]\n"
     ]
    }
   ],
   "source": [
    "print(\"Hasil Dari Perkalian Tensor :\",tf.multiply(random_tensor,prime_tensor).numpy())"
   ]
  },
  {
   "cell_type": "markdown",
   "metadata": {},
   "source": [
    "<h5>Perhitungan aritmatika divide (pembagian)<h5>"
   ]
  },
  {
   "cell_type": "code",
   "execution_count": 45,
   "metadata": {},
   "outputs": [
    {
     "name": "stdout",
     "output_type": "stream",
     "text": [
      "Hasil Dari Pembagian Tensor : [[ 2.6710117e-03 -3.4868124e-01 -3.2855296e-01 -4.9933385e-02\n",
      "   8.6495548e-02]\n",
      " [ 6.2352516e-02 -4.4808295e-02  5.3350762e-02 -8.0305278e-02\n",
      "   6.9557857e-03]\n",
      " [ 3.9269436e-02 -4.7498003e-02  4.3069072e-02  2.6512560e-02\n",
      "   1.7697476e-02]\n",
      " [-3.7687927e-02  4.2672469e-03  1.7524315e-02  4.2478656e-03\n",
      "   3.6191409e-03]\n",
      " [ 2.9324068e-04  8.7022139e-03  4.2074416e-03 -9.8537060e-04\n",
      "   1.4045253e-02]]\n"
     ]
    }
   ],
   "source": [
    "print(\"Hasil Dari Pembagian Tensor :\",tf.divide(random_tensor,prime_tensor).numpy())"
   ]
  },
  {
   "cell_type": "markdown",
   "metadata": {},
   "source": [
    "<h5>Perhitungan aritmatika pow (pangkat)<h5>"
   ]
  },
  {
   "cell_type": "code",
   "execution_count": 46,
   "metadata": {},
   "outputs": [
    {
     "name": "stdout",
     "output_type": "stream",
     "text": [
      "Hasil Dari Perpangkatan Tensor : [[ 2.8537215e-05 -1.1445889e+00 -1.1964015e+01 -6.3741673e-04\n",
      "   5.7842988e-01]\n",
      " [ 6.5217666e-02 -9.7886873e-03  1.2941672e+00 -1.3454100e+06\n",
      "   6.8798849e-21]\n",
      " [ 4.4453607e+02 -1.1493494e+09  1.3332886e+10  2.8026218e+02\n",
      "   1.7395316e-04]\n",
      " [-8.4205733e+15  4.5602440e-36  5.8509125e+01  1.0951345e-37\n",
      "   0.0000000e+00]\n",
      " [ 0.0000000e+00  1.8739266e-12  0.0000000e+00 -0.0000000e+00\n",
      "   2.1724390e+15]]\n"
     ]
    }
   ],
   "source": [
    "print(\"Hasil Dari Perpangkatan Tensor :\",tf.pow(random_tensor,prime_tensor).numpy())"
   ]
  },
  {
   "cell_type": "markdown",
   "metadata": {},
   "source": [
    "<h5>Menampilkan nilai maksimal dan minimal dari variable random_tensor</h5>"
   ]
  },
  {
   "cell_type": "code",
   "execution_count": 47,
   "metadata": {},
   "outputs": [
    {
     "name": "stdout",
     "output_type": "stream",
     "text": [
      "Hasil Dari Nilai Maximal Random Tensor : [2 4 2 2 4]\n"
     ]
    }
   ],
   "source": [
    "print(\"Hasil Dari Nilai Maximal Random Tensor :\",tf.argmax(random_tensor, axis=0).numpy())"
   ]
  },
  {
   "cell_type": "code",
   "execution_count": 49,
   "metadata": {},
   "outputs": [
    {
     "name": "stdout",
     "output_type": "stream",
     "text": [
      "Hasil Dari Nilai Maximal Random Tensor : [3 2 0 1 1]\n"
     ]
    }
   ],
   "source": [
    "print(\"Hasil Dari Nilai Maximal Random Tensor :\",tf.argmin(random_tensor, axis=0).numpy())"
   ]
  },
  {
   "cell_type": "markdown",
   "metadata": {},
   "source": [
    "<h5>Tampilkan hasil dari penggabungan variable random_tensor dengan prime_tensor (concatenation)</h5>"
   ]
  },
  {
   "cell_type": "code",
   "execution_count": 50,
   "metadata": {},
   "outputs": [
    {
     "name": "stdout",
     "output_type": "stream",
     "text": [
      "size original pada data random dan prime tensor: (5, 5) (5, 5)\n",
      "size concatenated data: (10, 5)\n"
     ]
    }
   ],
   "source": [
    "print(\"size original pada data random dan prime tensor:\",random_tensor.shape,prime_tensor.shape)\n",
    "concated_tensor = tf.concat([random_tensor,prime_tensor],axis=0)\n",
    "print(\"size concatenated data:\",concated_tensor.shape)"
   ]
  },
  {
   "cell_type": "markdown",
   "metadata": {},
   "source": [
    "<h5>Tampilkan hasil sorting dari kedua variable di atas. (descending)</h5>"
   ]
  },
  {
   "cell_type": "code",
   "execution_count": 51,
   "metadata": {},
   "outputs": [
    {
     "name": "stdout",
     "output_type": "stream",
     "text": [
      "input prime tensor: [[  2.   3.   5.   7.  11.]\n",
      " [ 13.  17.  19.  23.  29.]\n",
      " [ 31.  37.  41.  43.  47.]\n",
      " [ 53.  59.  61.  71.  73.]\n",
      " [ 79.  83.  89.  97. 101.]]\n",
      "input random tensor: [[ 0.00534202 -1.0460438  -1.6427648  -0.3495337   0.951451  ]\n",
      " [ 0.8105827  -0.761741    1.0136645  -1.8470215   0.20171778]\n",
      " [ 1.2173525  -1.7574261   1.765832    1.14004     0.8317814 ]\n",
      " [-1.9974602   0.25176758  1.0689832   0.30159846  0.2641973 ]\n",
      " [ 0.02316601  0.7222838   0.3744623  -0.09558094  1.4185706 ]]\n",
      "hasil random tensor sorted dengan descending order: [[ 0.951451    0.00534202 -0.3495337  -1.0460438  -1.6427648 ]\n",
      " [ 1.0136645   0.8105827   0.20171778 -0.761741   -1.8470215 ]\n",
      " [ 1.765832    1.2173525   1.14004     0.8317814  -1.7574261 ]\n",
      " [ 1.0689832   0.30159846  0.2641973   0.25176758 -1.9974602 ]\n",
      " [ 1.4185706   0.7222838   0.3744623   0.02316601 -0.09558094]]\n",
      "hasil prime tensor sorted dengan descending order: [[ 11.   7.   5.   3.   2.]\n",
      " [ 29.  23.  19.  17.  13.]\n",
      " [ 47.  43.  41.  37.  31.]\n",
      " [ 73.  71.  61.  59.  53.]\n",
      " [101.  97.  89.  83.  79.]]\n"
     ]
    }
   ],
   "source": [
    "print(\"input prime tensor:\",prime_tensor.numpy())\n",
    "print(\"input random tensor:\",random_tensor.numpy())\n",
    "sorted_random = tf.sort(random_tensor, direction = \"DESCENDING\")\n",
    "print(\"hasil random tensor sorted dengan descending order:\",sorted_random.numpy())\n",
    "sorted_prime = tf.sort(prime_tensor, direction = \"DESCENDING\")\n",
    "print(\"hasil prime tensor sorted dengan descending order:\",sorted_prime.numpy())"
   ]
  }
 ],
 "metadata": {
  "kernelspec": {
   "display_name": "Python 3.10.7 64-bit",
   "language": "python",
   "name": "python3"
  },
  "language_info": {
   "codemirror_mode": {
    "name": "ipython",
    "version": 3
   },
   "file_extension": ".py",
   "mimetype": "text/x-python",
   "name": "python",
   "nbconvert_exporter": "python",
   "pygments_lexer": "ipython3",
   "version": "3.10.7"
  },
  "orig_nbformat": 4,
  "vscode": {
   "interpreter": {
    "hash": "b3609bf0e7e6b9d51fac35ac71f79ce13a464e889557099e374c419fb7556006"
   }
  }
 },
 "nbformat": 4,
 "nbformat_minor": 2
}
